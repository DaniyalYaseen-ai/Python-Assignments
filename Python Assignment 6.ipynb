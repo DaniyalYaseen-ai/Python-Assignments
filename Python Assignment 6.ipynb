{
 "cells": [
  {
   "cell_type": "code",
   "execution_count": 1,
   "metadata": {},
   "outputs": [],
   "source": [
    "#Assignment N0 6\n",
    "#AOA\n",
    "#QUESTION NO 1:Define Object Oriented Programmig Language?\n",
    "#ANSWER: Object-oriented programming is a programming paradigm based on the concept of \"objects\",\n",
    "#which can contain data, in the form of fields, and code, in the form of procedures. A feature of\n",
    "#objects is an object's procedures that can access and often modify the data fields of the object\n",
    "#with which they are associated."
   ]
  },
  {
   "cell_type": "code",
   "execution_count": 2,
   "metadata": {},
   "outputs": [],
   "source": [
    "#QUESTION NO 2: List down the benefits of OOP?\n",
    "#ANSWER: The TOP four benefits of OOP are as follows,\n",
    "#1)Modularity for easier troubleshooting.\n",
    "#2)Reuse of code through inheritance. ...\n",
    "#3)Flexibility through polymorphism. ...\n",
    "#4)Effective problem solving.\n"
   ]
  },
  {
   "cell_type": "code",
   "execution_count": 3,
   "metadata": {},
   "outputs": [],
   "source": [
    "#QUESTION NO 3: Differentiate between functions and methods:\n",
    "#ANSWER:\n",
    "#Function — a set of instructions that perform a task. Funstions can be defined within and outside of classes.\n",
    "#Method — a set of instructions that are associated with an object. Methods are only used with in classes."
   ]
  },
  {
   "cell_type": "code",
   "execution_count": 4,
   "metadata": {},
   "outputs": [],
   "source": [
    "#QUESTION NO 4: Define the following terms.\n",
    "#ANSWER:\n",
    "#CLASS: It is a template or blueprint about the capability of what an object can do.\n",
    "#OBJECT: An object is intantiation of class. when class is defined then only the description of object is defined, therefore \n",
    "#memory or storage is allocated.\n",
    "#ATTRIBUTE: Attribute are properties of object like speed of car etc.\n",
    "#BEHAVIOR: Behavior are the functions defined inside body of class. They are used to defince characteristics of object's behavior.\n"
   ]
  },
  {
   "cell_type": "code",
   "execution_count": 11,
   "metadata": {},
   "outputs": [
    {
     "name": "stdout",
     "output_type": "stream",
     "text": [
      "2019 black picanto bridgestone KIA\n",
      "2018 blue corolla bridgestone TOYOTA\n",
      "2017 green mehran bridgestone SUZUKI\n",
      "2016 orange civic bridgestone HONDA\n",
      "2015 white cultus bridgestone SUZUKI\n"
     ]
    }
   ],
   "source": [
    "#QUESTION NO 5: Write a code in python in which create a class named it Car which have 5 attributes suck like (model,color and name etc),\n",
    "# and 3 methods. And create 5 object instance from that class.\n",
    "\n",
    "\n",
    "class Car():\n",
    "    def __init__(self,model,color,name,wheels,brand):\n",
    "        self.model =model\n",
    "        self.color = color\n",
    "        self.name = name\n",
    "        self.wheels = wheels\n",
    "        self.brand = brand\n",
    "    def updatemodel(self,newmodel): \n",
    "        self.model += newmodel\n",
    "    def updatecolor(self,newcolor):\n",
    "        self.newcolor = newcolor\n",
    "obj1 = Car(2019,\"black\",\"picanto\",\"bridgestone\",\"KIA\")\n",
    "obj2 = Car(2018,\"blue\",\"corolla\",\"bridgestone\",\"TOYOTA\")  \n",
    "obj3 = Car(2017,\"green\",\"mehran\",\"bridgestone\",\"SUZUKI\")\n",
    "obj4 = Car(2016,\"orange\",\"civic\",\"bridgestone\",\"HONDA\")\n",
    "obj5 = Car(2015,\"white\",\"cultus\",\"bridgestone\",\"SUZUKI\")\n",
    "\n",
    "print(obj1.model,obj1.color,obj1.name,obj1.wheels,obj1.brand)\n",
    "print(obj2.model,obj2.color,obj2.name,obj2.wheels,obj2.brand)\n",
    "print(obj3.model,obj3.color,obj3.name,obj3.wheels,obj3.brand)\n",
    "print(obj4.model,obj4.color,obj4.name,obj4.wheels,obj4.brand)\n",
    "print(obj5.model,obj5.color,obj5.name,obj5.wheels,obj5.brand)\n",
    "\n"
   ]
  },
  {
   "cell_type": "code",
   "execution_count": 15,
   "metadata": {},
   "outputs": [
    {
     "name": "stdout",
     "output_type": "stream",
     "text": [
      "2021 latest model\n"
     ]
    }
   ],
   "source": [
    "obj1.updatemodel(1)\n",
    "print(obj1.model, \"latest model\")"
   ]
  },
  {
   "cell_type": "code",
   "execution_count": 16,
   "metadata": {},
   "outputs": [
    {
     "name": "stdout",
     "output_type": "stream",
     "text": [
      "Purple newest color in market\n"
     ]
    }
   ],
   "source": [
    "obj2.updatecolor('Purple')\n",
    "print(obj2.newcolor,'newest color in market')"
   ]
  },
  {
   "cell_type": "code",
   "execution_count": null,
   "metadata": {},
   "outputs": [],
   "source": [
    "#ALLAH HAFIZ\n",
    "#MAY ALLAH SHOWERS HIS BLESSINGS ON SAYLANI AND THIER TEAM MEMBERS."
   ]
  }
 ],
 "metadata": {
  "kernelspec": {
   "display_name": "Python 3",
   "language": "python",
   "name": "python3"
  },
  "language_info": {
   "codemirror_mode": {
    "name": "ipython",
    "version": 3
   },
   "file_extension": ".py",
   "mimetype": "text/x-python",
   "name": "python",
   "nbconvert_exporter": "python",
   "pygments_lexer": "ipython3",
   "version": "3.7.4"
  }
 },
 "nbformat": 4,
 "nbformat_minor": 2
}
