{
 "cells": [
  {
   "cell_type": "code",
   "execution_count": 1,
   "metadata": {},
   "outputs": [
    {
     "name": "stdout",
     "output_type": "stream",
     "text": [
      "('first_name', 'Daniyal')\n",
      "('last_name', 'Yaseen')\n",
      "('age', 24)\n",
      "('city', 'Karachi')\n",
      "{'first_name': 'Daniyal', 'last_name': 'Yaseen', 'age': 24, 'city': 'Karachi', 'qualification': 'BE'}\n",
      "{'first_name': 'Daniyal', 'last_name': 'Yaseen', 'age': 24, 'city': 'Karachi', 'qualification': 'High academic level'}\n",
      "{'first_name': 'Daniyal', 'last_name': 'Yaseen', 'age': 24, 'city': 'Karachi'}\n"
     ]
    }
   ],
   "source": [
    "#AOA \n",
    "#Question NO 1\n",
    "\n",
    "Dict = {\"first_name\":\"Daniyal\", \"last_name\":\"Yaseen\", \"age\": 24, \"city\": \"Karachi\"}\n",
    "for info in Dict.items():\n",
    "    print(info)\n",
    "Dict[\"qualification\"] = \"BE\"\n",
    "print(Dict)\n",
    "Dict[\"qualification\"] = \"High academic level\"\n",
    "print(Dict)\n",
    "del Dict[\"qualification\"]\n",
    "print(Dict)"
   ]
  },
  {
   "cell_type": "code",
   "execution_count": 2,
   "metadata": {},
   "outputs": [
    {
     "name": "stdout",
     "output_type": "stream",
     "text": [
      "karachi has the following details:\n",
      "Country :  pakistan\n",
      "Population :  15741000\n",
      "Fact :  tasty biryani\n",
      "\n",
      "\n",
      "lahore has the following details:\n",
      "Country :  pakistan\n",
      "Population :  11131000\n",
      "Fact :  Badshahi Masjid\n",
      "\n",
      "\n",
      "islamabad has the following details:\n",
      "Country :  pakistan\n",
      "Population :  1141000\n",
      "Fact :  capital\n",
      "\n",
      "\n"
     ]
    }
   ],
   "source": [
    "#Question NO 2\n",
    "\n",
    "Cities = {\"karachi\":{\"country\":\"pakistan\", \"population\": 15741000, \"fact\":\"tasty biryani\"},\n",
    "          \"lahore\":{\"country\":\"pakistan\", \"population\": 11131000, \"fact\":\"Badshahi Masjid\"},\n",
    "          \"islamabad\":{\"country\":\"pakistan\", \"population\": 1141000, \"fact\": \"capital\"}     }\n",
    "\n",
    "for info in Cities.keys():\n",
    "    if info == \"karachi\":\n",
    "        print(info, \"has the following details:\")\n",
    "        print(\"Country : \", Cities[\"karachi\"][\"country\"])\n",
    "        print(\"Population : \", Cities[\"karachi\"][\"population\"])   \n",
    "        print(\"Fact : \", Cities[\"karachi\"][\"fact\"])      \n",
    "        print(\"\\n\")\n",
    "    if info == \"lahore\":\n",
    "        print(info, \"has the following details:\")\n",
    "        print(\"Country : \", Cities[\"lahore\"][\"country\"])\n",
    "        print(\"Population : \", Cities[\"lahore\"][\"population\"])   \n",
    "        print(\"Fact : \", Cities[\"lahore\"][\"fact\"])      \n",
    "        print(\"\\n\")\n",
    "    if info == \"islamabad\":\n",
    "        print(info, \"has the following details:\")\n",
    "        print(\"Country : \", Cities[\"islamabad\"][\"country\"])\n",
    "        print(\"Population : \", Cities[\"islamabad\"][\"population\"])   \n",
    "        print(\"Fact : \", Cities[\"islamabad\"][\"fact\"])      \n",
    "        print(\"\\n\")\n",
    " \n",
    "    "
   ]
  },
  {
   "cell_type": "code",
   "execution_count": null,
   "metadata": {},
   "outputs": [],
   "source": [
    "#Question NO 3\n",
    "#Notice,it is inifinite loop program so may create problem in anaconda when teminating the program.\n",
    "\n",
    "from itertools import count\n",
    "for i in count(0):\n",
    "    age = int(input(\"Enter your age to know the prize of ticket : \"))\n",
    "    if age < 3:\n",
    "        print(\"Your ticket is free, you can proceed towards the main gate \")\n",
    "    elif age >= 3 and age <= 12:\n",
    "        print(\"Your ticket is of 10$, Pay and proceed towards the main gate \")\n",
    "    elif age > 12:\n",
    "        print(\"Your ticket is of 15$, Pay and proceed towards the main gate \")"
   ]
  },
  {
   "cell_type": "code",
   "execution_count": 9,
   "metadata": {},
   "outputs": [],
   "source": [
    "#Question NO 4\n",
    "def favorite_book(title):\n",
    "    title  = input('Enter the title of your favorite book: ')\n",
    "    print(\"One of my favorite book is \", title)\n",
    "\n",
    "favorite_book(title)  "
   ]
  },
  {
   "cell_type": "code",
   "execution_count": 12,
   "metadata": {},
   "outputs": [
    {
     "name": "stdout",
     "output_type": "stream",
     "text": [
      "Guess the number here: 52\n",
      "The number you entered is greater then actual value !\n",
      "The actual number is  5\n"
     ]
    }
   ],
   "source": [
    "#Question NO 5\n",
    "\n",
    "from random import seed\n",
    "from random import randint\n",
    "\n",
    "seed(1)\n",
    "\n",
    "for _ in range(1):\n",
    "    value = randint(1,30)\n",
    "    guess = int(input(\"Guess the number here: \"))\n",
    "    if guess == value:\n",
    "        print(\"Congratulations! you have guessed right number.\")\n",
    "    elif guess < value:\n",
    "        print(\"The number you entered is smaller then actual value !\")\n",
    "    elif guess > value:\n",
    "        print(\"The number you entered is greater then actual value !\")\n",
    "        \n",
    "print(\"The actual number is \", value)"
   ]
  },
  {
   "cell_type": "code",
   "execution_count": null,
   "metadata": {},
   "outputs": [],
   "source": []
  },
  {
   "cell_type": "code",
   "execution_count": null,
   "metadata": {},
   "outputs": [],
   "source": []
  },
  {
   "cell_type": "code",
   "execution_count": null,
   "metadata": {},
   "outputs": [],
   "source": []
  }
 ],
 "metadata": {
  "kernelspec": {
   "display_name": "Python 3",
   "language": "python",
   "name": "python3"
  },
  "language_info": {
   "codemirror_mode": {
    "name": "ipython",
    "version": 3
   },
   "file_extension": ".py",
   "mimetype": "text/x-python",
   "name": "python",
   "nbconvert_exporter": "python",
   "pygments_lexer": "ipython3",
   "version": "3.7.4"
  }
 },
 "nbformat": 4,
 "nbformat_minor": 2
}
