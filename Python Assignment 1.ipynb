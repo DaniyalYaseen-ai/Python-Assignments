{
 "cells": [
  {
   "cell_type": "code",
   "execution_count": 1,
   "metadata": {},
   "outputs": [
    {
     "name": "stdout",
     "output_type": "stream",
     "text": [
      "AOA\n"
     ]
    }
   ],
   "source": [
    "#Greetings\n",
    "print(\"AOA\")"
   ]
  },
  {
   "cell_type": "code",
   "execution_count": 2,
   "metadata": {},
   "outputs": [
    {
     "name": "stdout",
     "output_type": "stream",
     "text": [
      "Twinkle, twinkle, little star,\n",
      "      How I wonder what you are!\n",
      "            Up above the world so high,\n",
      "            Like a diamond in the sky.\n",
      "Twinkle, twinkle, little star,\n",
      "      How I wonder what you are\n"
     ]
    }
   ],
   "source": [
    "#Program 1\n",
    "print(\"Twinkle, twinkle, little star,\")\n",
    "print(\"      How I wonder what you are!\")\n",
    "print(\"            Up above the world so high,\")\n",
    "print(\"            Like a diamond in the sky.\")\n",
    "print(\"Twinkle, twinkle, little star,\")\n",
    "print(\"      How I wonder what you are\")"
   ]
  },
  {
   "cell_type": "code",
   "execution_count": 3,
   "metadata": {},
   "outputs": [
    {
     "name": "stdout",
     "output_type": "stream",
     "text": [
      "python version\n",
      "3.7.4 (default, Aug  9 2019, 18:34:13) [MSC v.1915 64 bit (AMD64)]\n"
     ]
    }
   ],
   "source": [
    "#program 2\n",
    "import sys\n",
    "print(\"python version\")\n",
    "print(sys.version)"
   ]
  },
  {
   "cell_type": "code",
   "execution_count": 4,
   "metadata": {},
   "outputs": [
    {
     "name": "stdout",
     "output_type": "stream",
     "text": [
      "Current date & time is\n",
      "2019-11-02  13:04:30\n"
     ]
    }
   ],
   "source": [
    "#Program 3\n",
    "import datetime\n",
    "now = datetime.datetime.now()\n",
    "print('Current date & time is')\n",
    "print(now.strftime(\"%Y-%m-%d  %H:%M:%S\"))"
   ]
  },
  {
   "cell_type": "code",
   "execution_count": 5,
   "metadata": {},
   "outputs": [
    {
     "name": "stdout",
     "output_type": "stream",
     "text": [
      "Enter radius: 23.3\n",
      "The area of circle is: 1705.539\n"
     ]
    }
   ],
   "source": [
    "#Program 4\n",
    "import math\n",
    "R = float(input('Enter radius: '))\n",
    "Area =  (math.pi) * (R**2) \n",
    "print(\"The area of circle is: %.3f\"%Area)"
   ]
  },
  {
   "cell_type": "code",
   "execution_count": 6,
   "metadata": {},
   "outputs": [
    {
     "name": "stdout",
     "output_type": "stream",
     "text": [
      "enter your first name: Daniyal\n",
      "enter your last name: Yaseem\n",
      "meesaY layinaD\n"
     ]
    }
   ],
   "source": [
    "#Program 5\n",
    "First_name = input(\"enter your first name: \")\n",
    "last_name = input(\"enter your last name: \")\n",
    "lenth_First = len(First_name)\n",
    "length_Second = len(last_name)\n",
    "Slicing_First = First_name[lenth_First::-1]\n",
    "Slicing_Second = last_name[length_Second::-1]\n",
    "print(Slicing_Second + \" \" + Slicing_First)"
   ]
  },
  {
   "cell_type": "code",
   "execution_count": 9,
   "metadata": {},
   "outputs": [
    {
     "name": "stdout",
     "output_type": "stream",
     "text": [
      "enter first number: 2.3\n",
      "enter second number: 2.2\n",
      "The sum of two numbers is 4.50\n"
     ]
    }
   ],
   "source": [
    "#Program 6\n",
    "num1 = float(input('enter first number: '))\n",
    "num2 = float(input('enter second number: '))\n",
    "add = num1 + num2\n",
    "print(\"The sum of two numbers is %.2f\"%add)"
   ]
  },
  {
   "cell_type": "code",
   "execution_count": null,
   "metadata": {},
   "outputs": [],
   "source": []
  }
 ],
 "metadata": {
  "kernelspec": {
   "display_name": "Python 3",
   "language": "python",
   "name": "python3"
  },
  "language_info": {
   "codemirror_mode": {
    "name": "ipython",
    "version": 3
   },
   "file_extension": ".py",
   "mimetype": "text/x-python",
   "name": "python",
   "nbconvert_exporter": "python",
   "pygments_lexer": "ipython3",
   "version": "3.7.4"
  }
 },
 "nbformat": 4,
 "nbformat_minor": 2
}
