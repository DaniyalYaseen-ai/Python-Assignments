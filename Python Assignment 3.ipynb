{
 "cells": [
  {
   "cell_type": "code",
   "execution_count": 10,
   "metadata": {},
   "outputs": [
    {
     "name": "stdout",
     "output_type": "stream",
     "text": [
      "Select the operation which you want to perform\n",
      "+\n",
      "-\n",
      "*\n",
      "/\n",
      "power\n",
      "enter the operator here : power\n",
      "enter the number to proceded with power operation: 5\n",
      "enter the power/exponent: 5\n",
      "The execution of power operation resulted:  3125\n"
     ]
    }
   ],
   "source": [
    "#AOA\n",
    "\n",
    "\n",
    "#Program 1\n",
    "#Make a calculator using python with addition, substraction, multiplication, division, and power.\n",
    "\n",
    "\n",
    "print(\"Select the operation which you want to perform\")\n",
    "print(\"+\")\n",
    "print(\"-\")\n",
    "print(\"*\")\n",
    "print(\"/\")\n",
    "print(\"power\")\n",
    "\n",
    "operator = input(\"enter the operator here : \")\n",
    "\n",
    "\n",
    "\n",
    "if operator == \"+\":\n",
    "    number1 = int(input(\"enter the first number: \"))\n",
    "    number2 = int(input(\"enter the Second number: \"))\n",
    "    sum = number1 + number2\n",
    "    print(\"The addition of provided numbers resulted :\", sum )\n",
    "\n",
    "elif operator == \"-\":\n",
    "    number1 = int(input(\"enter the first number: \"))\n",
    "    number2 = int(input(\"enter the Second number: \"))\n",
    "    sub = number1 - number2\n",
    "    print(\"The substraction of provided numbers resulted :\", sub)\n",
    "\n",
    "elif operator == \"*\":\n",
    "    number1 = int(input(\"enter the first number: \"))\n",
    "    number2 = int(input(\"enter the Second number: \"))\n",
    "    mul = number1 * number2\n",
    "    print(\"The multiplication of provided numbers resulted :\", mul)\n",
    "\n",
    "elif operator == \"/\":\n",
    "    number1 = int(input(\"enter the first number: \"))\n",
    "    number2 = int(input(\"enter the Second number: \"))\n",
    "    div = number1 / number2\n",
    "    print(\"The division of provided numbers resulted : %.2f \" %div)\n",
    "\n",
    "elif operator == \"power\":\n",
    "    number1 = int(input(\"enter the number to proceded with power operation: \"))\n",
    "    exponent = int(input(\"enter the power/exponent: \"))\n",
    "    result = number1 ** exponent\n",
    "    print(\"The execution of power operation resulted: \",result)\n",
    "\n",
    "else:\n",
    "    print(\"please enter correct operator\")\n",
    "    \n",
    "    \n",
    "    \n"
   ]
  },
  {
   "cell_type": "code",
   "execution_count": 11,
   "metadata": {},
   "outputs": [
    {
     "name": "stdout",
     "output_type": "stream",
     "text": [
      "The value  is numeric that is : 10\n",
      "The value  is numeric that is : 10\n",
      "The value is non-numeric that is : ten\n",
      "The value  is numeric that is : 2\n",
      "The value  is numeric that is : 34\n"
     ]
    }
   ],
   "source": [
    "#program 2\n",
    "#Write a program to check if there is any numeric value in list using for loop.\n",
    "age = [10,'10','ten', 2, '34']\n",
    "for check in age:\n",
    "    \n",
    "    try:\n",
    "        val = int(check)\n",
    "        print(\"The value  is numeric that is :\" , val )\n",
    "    except ValueError:\n",
    "        print(\"The value is non-numeric that is :\" , check )"
   ]
  },
  {
   "cell_type": "code",
   "execution_count": 12,
   "metadata": {},
   "outputs": [
    {
     "name": "stdout",
     "output_type": "stream",
     "text": [
      "Before adding\n",
      "{'husband': 'wife', 'brother': 'sister'}\n",
      "After adding\n",
      "{'husband': 'wife', 'brother': 'sister', 'father': 'mother'}\n"
     ]
    }
   ],
   "source": [
    "#program 3\n",
    "# write a python script to add a key to a dictionary.\n",
    "\n",
    "Dict = {'husband':'wife', 'brother':'sister'}\n",
    "print(\"Before adding\")\n",
    "print(Dict)\n",
    "Dict.update({'father':'mother'})\n",
    "print(\"After adding\")\n",
    "print(Dict)"
   ]
  },
  {
   "cell_type": "code",
   "execution_count": 13,
   "metadata": {},
   "outputs": [
    {
     "name": "stdout",
     "output_type": "stream",
     "text": [
      "10\n",
      "5\n",
      "3\n",
      "4\n",
      "The total of all numeric items is 22\n"
     ]
    }
   ],
   "source": [
    "#program 4\n",
    "#Write a python program to sum all the numeric items in dictionary.\n",
    "\n",
    "Dict = {'pencils':10, 'pen':5, 'marker':3, 'ballpoint':4}\n",
    "sum = 0\n",
    "for quantity in Dict.values():\n",
    "    print(quantity)\n",
    "    sum = quantity + sum\n",
    "print(\"The total of all numeric items is\", sum)"
   ]
  },
  {
   "cell_type": "code",
   "execution_count": 14,
   "metadata": {},
   "outputs": [
    {
     "name": "stdout",
     "output_type": "stream",
     "text": [
      "There is  duplicate in this list that is 1\n",
      "There is  duplicate in this list that is 3\n",
      "There is  duplicate in this list that is 4\n"
     ]
    }
   ],
   "source": [
    "#program 5\n",
    "#write a  program to identify duplicate values from list.\n",
    "\n",
    "\n",
    "def FindDuplicates(in_list): \n",
    "    \n",
    "\n",
    "    unique = set(in_list)  \n",
    "    for each in unique:  \n",
    "        count = in_list.count(each)  \n",
    "        if count > 1: \n",
    "            print('There is  duplicate in this list that is', each)   \n",
    "FindDuplicates([1,3,4,5,1,2,3,4,32,4])"
   ]
  },
  {
   "cell_type": "code",
   "execution_count": 15,
   "metadata": {},
   "outputs": [
    {
     "name": "stdout",
     "output_type": "stream",
     "text": [
      "Input the value that you want to check as already present key :3\n",
      "YES, 3 is already present\n"
     ]
    }
   ],
   "source": [
    "#program 6\n",
    "#write a python script to check if a given key already exist in a dictionary.\n",
    "\n",
    "Dict = {1:2, 3:4, 5:6, 7:8, 9:10}\n",
    "test = int(input('Input the value that you want to check as already present key :' ))\n",
    "if test in Dict.keys():\n",
    "    print(\"YES,\", test , \"is already present\")\n",
    "else:\n",
    "    print(\"NO,\", test, \"is not present\")\n",
    "  "
   ]
  },
  {
   "cell_type": "code",
   "execution_count": null,
   "metadata": {},
   "outputs": [],
   "source": []
  }
 ],
 "metadata": {
  "kernelspec": {
   "display_name": "Python 3",
   "language": "python",
   "name": "python3"
  },
  "language_info": {
   "codemirror_mode": {
    "name": "ipython",
    "version": 3
   },
   "file_extension": ".py",
   "mimetype": "text/x-python",
   "name": "python",
   "nbconvert_exporter": "python",
   "pygments_lexer": "ipython3",
   "version": "3.7.4"
  }
 },
 "nbformat": 4,
 "nbformat_minor": 2
}
