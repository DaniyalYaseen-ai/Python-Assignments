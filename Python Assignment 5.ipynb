{
 "cells": [
  {
   "cell_type": "code",
   "execution_count": 7,
   "metadata": {},
   "outputs": [],
   "source": [
    "#AOA\n",
    "#PROGRAM NO 1\n",
    "#Write a Python function to calculate the factorial of a number (a non-negative integer). The function accepts the number as an argument. \n",
    "\n",
    "def fac(number):\n",
    "    factorial = 1\n",
    "    number = int(input(\"Enter the number you want factorial of: \"))\n",
    "    if number < 0:\n",
    "        print(\"Sorry!, The factorial not valid for negative number. \")\n",
    "    elif number == 0:\n",
    "        print(\"Sorry!, The factorial not valid for ZERO. \")\n",
    "    else:\n",
    "        for i in range(1,number+1):\n",
    "            factorial = factorial*i\n",
    "    print(\"The factorial for \" + str(number) + \" is \",factorial)"
   ]
  },
  {
   "cell_type": "code",
   "execution_count": 8,
   "metadata": {},
   "outputs": [
    {
     "name": "stdout",
     "output_type": "stream",
     "text": [
      "Enter the number you want factorial of: 5\n",
      "The factorial for 5 is  120\n"
     ]
    }
   ],
   "source": [
    "fac(number)"
   ]
  },
  {
   "cell_type": "code",
   "execution_count": 14,
   "metadata": {},
   "outputs": [],
   "source": [
    "#PROGRAM NO 2\n",
    "#Write a Python function that accepts a string and calculate the number of upper case letters and lower case letters. \n",
    "\n",
    "def LUC(string):\n",
    "    string = input(\"Enter the string: \")\n",
    "    count1 = 0\n",
    "    count2 = 0\n",
    "    for i in string:\n",
    "        if (i.isupper()):\n",
    "            count1 = count1 + 1\n",
    "        elif (i.islower()):\n",
    "            count2 = count2 + 1\n",
    "    print(\"The number of UPPER and LOWER case characters in \" + string + \" are %s and %s\" %(count1,count2))\n",
    "    \n",
    "     \n",
    "        "
   ]
  },
  {
   "cell_type": "code",
   "execution_count": 15,
   "metadata": {},
   "outputs": [
    {
     "name": "stdout",
     "output_type": "stream",
     "text": [
      "Enter the string: DaNiYaL\n",
      "The number of UPPER and LOWER case characters in DaNiYaL are 4 and 3\n"
     ]
    }
   ],
   "source": [
    "LUC(string)"
   ]
  },
  {
   "cell_type": "code",
   "execution_count": 19,
   "metadata": {},
   "outputs": [],
   "source": [
    "#Program NO 3\n",
    "#Write a Python function to print the even numbers from a given list. \n",
    "\n",
    "def even(listt):\n",
    "    for i in listt:\n",
    "        if (i%2) == 0:\n",
    "            print(i)\n",
    "listt = [1,2,3,4,5,6,7,8,9,10]    \n",
    "            \n",
    "    \n"
   ]
  },
  {
   "cell_type": "code",
   "execution_count": 20,
   "metadata": {},
   "outputs": [
    {
     "name": "stdout",
     "output_type": "stream",
     "text": [
      "2\n",
      "4\n",
      "6\n",
      "8\n",
      "10\n"
     ]
    }
   ],
   "source": [
    "even(listt)"
   ]
  },
  {
   "cell_type": "code",
   "execution_count": 29,
   "metadata": {},
   "outputs": [
    {
     "name": "stdout",
     "output_type": "stream",
     "text": [
      "Enter the String: WOW\n",
      "'WOW' string is a palindrome!\n"
     ]
    }
   ],
   "source": [
    "#Program NO 4\n",
    "#Write a Python function that checks whether a passed string is palindrome or not.\n",
    "#Note: A palindrome is a word, phrase, or sequence that reads the same backward as forward, e.g., madam \n",
    "s = input(\"Enter the String: \")\n",
    "def rev(s):\n",
    "    return s[::-1]\n",
    "\n",
    "def ispalindrome(s):\n",
    "    reverse = rev(s)\n",
    "    if reverse == s:\n",
    "        print(\"'%s' string is a palindrome!\" %s)\n",
    "    else:\n",
    "        print(\"'%s' string is not a palindrome!\" %s)\n",
    "ispalindrome(s)"
   ]
  },
  {
   "cell_type": "code",
   "execution_count": 43,
   "metadata": {},
   "outputs": [
    {
     "name": "stdout",
     "output_type": "stream",
     "text": [
      "Enter a number: 7\n",
      "7 is a prime number\n"
     ]
    }
   ],
   "source": [
    "#Program NO 5\n",
    "#Write a Python function that takes a number as a parameter and check the number is prime or not. \n",
    "\n",
    "num = int(input(\"Enter a number: \"))\n",
    "if num > 1:\n",
    "    for i in range(2,num):\n",
    "        if (num%i) == 0:\n",
    "            print(num,\"is not a prime number\")\n",
    "            break\n",
    "    else:\n",
    "        print(num,\"is a prime number\")\n",
    "else:\n",
    "    print(num,\"is not a prime number\")"
   ]
  },
  {
   "cell_type": "code",
   "execution_count": 53,
   "metadata": {},
   "outputs": [],
   "source": [
    "#Program NO 6\n",
    "#Suppose a customer is shopping in a market and you need to print all the items which user bought from market.\n",
    "#Write a function which accepts the multiple arguments of user shopping list and print all the items which user\n",
    "#bought from market. (Hint: Arbitrary Argument concept can make this task ease) \n",
    "\n",
    "def shop(*items):\n",
    "    listt =[]\n",
    "    for item in items:\n",
    "        listt.append(item)\n",
    "        i = (len(listt)-1)\n",
    "        print(listt[i])\n",
    "    \n",
    "    \n",
    "        "
   ]
  },
  {
   "cell_type": "code",
   "execution_count": 55,
   "metadata": {},
   "outputs": [
    {
     "name": "stdout",
     "output_type": "stream",
     "text": [
      "vegetables\n",
      "rice\n",
      "roti\n",
      "gam\n",
      "fruits\n",
      "wheat\n"
     ]
    }
   ],
   "source": [
    "shop('vegetables','rice','roti','gam','fruits','wheat')"
   ]
  },
  {
   "cell_type": "code",
   "execution_count": null,
   "metadata": {},
   "outputs": [],
   "source": []
  }
 ],
 "metadata": {
  "kernelspec": {
   "display_name": "Python 3",
   "language": "python",
   "name": "python3"
  },
  "language_info": {
   "codemirror_mode": {
    "name": "ipython",
    "version": 3
   },
   "file_extension": ".py",
   "mimetype": "text/x-python",
   "name": "python",
   "nbconvert_exporter": "python",
   "pygments_lexer": "ipython3",
   "version": "3.7.4"
  }
 },
 "nbformat": 4,
 "nbformat_minor": 2
}
