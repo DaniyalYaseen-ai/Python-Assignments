{
 "cells": [
  {
   "cell_type": "code",
   "execution_count": 7,
   "metadata": {},
   "outputs": [
    {
     "name": "stdout",
     "output_type": "stream",
     "text": [
      "enter marks for your ENGLISH subject: 76\n",
      "enter marks for your URDU subject: 78\n",
      "enter marks for your ISLMIAT subject: 76\n",
      "enter marks for your MATHS subject: 75\n",
      "enter marks for your P.STUDIES subject: 79\n",
      "Your PERCENTAGE is 76.8\n",
      "Your grade is C\n"
     ]
    }
   ],
   "source": [
    "#AOA\n",
    "#PROGRAM 1\n",
    "Input1 = int(input(\"enter marks for your ENGLISH subject: \"))\n",
    "Input2 = int(input(\"enter marks for your URDU subject: \"))\n",
    "Input3 = int(input(\"enter marks for your ISLMIAT subject: \"))\n",
    "Input4 = int(input(\"enter marks for your MATHS subject: \"))\n",
    "Input5 = int(input(\"enter marks for your P.STUDIES subject: \"))\n",
    "TOTAL = Input1 + Input2 + Input3 + Input4 + Input5 \n",
    "PERCENTAGE = (TOTAL/500) * 100\n",
    "print(\"Your PERCENTAGE is %s\" %PERCENTAGE)\n",
    "if PERCENTAGE >= 90:\n",
    "    print(\"Your grade is A\")\n",
    "elif PERCENTAGE >= 80:\n",
    "    print(\"Your grade is B\")\n",
    "elif PERCENTAGE >= 70:\n",
    "    print(\"Your grade is C\")\n",
    "elif PERCENTAGE >= 60:\n",
    "    print(\"Your grade is D\")\n",
    "else:\n",
    "    print(\"We need your parents to meet us\")\n",
    "    "
   ]
  },
  {
   "cell_type": "code",
   "execution_count": 13,
   "metadata": {},
   "outputs": [
    {
     "name": "stdout",
     "output_type": "stream",
     "text": [
      "Enter the number to check whether it is EVEN or ODD : 2342345\n",
      "2342345 is ODD\n"
     ]
    }
   ],
   "source": [
    "#PROGRAM 2\n",
    "Number = int(input(\"Enter the number to check whether it is EVEN or ODD : \"))\n",
    "if (Number % 2) == 0:\n",
    "    print(\"%s is EVEN\"%Number)\n",
    "else:\n",
    "    print(\"%s is ODD\"%Number)"
   ]
  },
  {
   "cell_type": "code",
   "execution_count": 15,
   "metadata": {},
   "outputs": [
    {
     "name": "stdout",
     "output_type": "stream",
     "text": [
      "[1, 'Daniyal', 'Islam', 'Forever', 1]\n",
      "The length of list is 5\n"
     ]
    }
   ],
   "source": [
    "#PROGRAM 3\n",
    "List1 = [1, 'Daniyal','Islam', 'Forever', 1]\n",
    "print(List1)\n",
    "print(\"The length of list is %s\" %len(List1))"
   ]
  },
  {
   "cell_type": "code",
   "execution_count": 16,
   "metadata": {},
   "outputs": [
    {
     "name": "stdout",
     "output_type": "stream",
     "text": [
      "21\n"
     ]
    }
   ],
   "source": [
    "#PROGRAM 4\n",
    "Number = [1, 2, 3, 4, 5, 6]\n",
    "Sum = Number[0] + Number[1] + Number[2] + Number[3] + Number[4] + Number[5]\n",
    "print(Sum)"
   ]
  },
  {
   "cell_type": "code",
   "execution_count": 19,
   "metadata": {},
   "outputs": [
    {
     "name": "stdout",
     "output_type": "stream",
     "text": [
      "The largest number among all is 100\n"
     ]
    }
   ],
   "source": [
    "#PROGRAM 5\n",
    "Numbers = [34, 45, 67, 78, 100]\n",
    "print(\"The largest number among all is %s\" %max(Numbers))"
   ]
  },
  {
   "cell_type": "code",
   "execution_count": 21,
   "metadata": {},
   "outputs": [
    {
     "name": "stdout",
     "output_type": "stream",
     "text": [
      "1\n",
      "1\n",
      "2\n",
      "3\n"
     ]
    }
   ],
   "source": [
    "#PROGRAM 6\n",
    "TEST = [1, 1, 2, 3, 5, 8, 13, 21, 34, 55, 89]\n",
    "if TEST[0] < 5:\n",
    "    print(TEST[0])\n",
    "if TEST[1] < 5:\n",
    "    print(TEST[1])\n",
    "if TEST[2] < 5:\n",
    "    print(TEST[2])\n",
    "if TEST[3] < 5:\n",
    "    print(TEST[3])\n",
    "if TEST[4] < 5:\n",
    "    print(TEST[4])\n",
    "if TEST[5] < 5:\n",
    "    print(TEST[5])\n",
    "if TEST[6] < 5:\n",
    "    print(TEST[6])\n",
    "if TEST[7] < 5:\n",
    "    print(TEST[7])\n",
    "if TEST[8] < 5:\n",
    "    print(TEST[8])\n",
    "if TEST[9] < 5:\n",
    "    print(TEST[9])\n",
    "if TEST[10] < 5:\n",
    "    print(TEST[10])\n",
    "\n",
    "    "
   ]
  },
  {
   "cell_type": "code",
   "execution_count": null,
   "metadata": {},
   "outputs": [],
   "source": []
  }
 ],
 "metadata": {
  "kernelspec": {
   "display_name": "Python 3",
   "language": "python",
   "name": "python3"
  },
  "language_info": {
   "codemirror_mode": {
    "name": "ipython",
    "version": 3
   },
   "file_extension": ".py",
   "mimetype": "text/x-python",
   "name": "python",
   "nbconvert_exporter": "python",
   "pygments_lexer": "ipython3",
   "version": "3.7.4"
  }
 },
 "nbformat": 4,
 "nbformat_minor": 2
}
